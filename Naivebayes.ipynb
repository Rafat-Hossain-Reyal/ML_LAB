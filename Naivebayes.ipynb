{
  "nbformat": 4,
  "nbformat_minor": 0,
  "metadata": {
    "colab": {
      "provenance": [],
      "authorship_tag": "ABX9TyN2qkyXjYPNyM/XhcCKiMsz",
      "include_colab_link": true
    },
    "kernelspec": {
      "name": "python3",
      "display_name": "Python 3"
    },
    "language_info": {
      "name": "python"
    }
  },
  "cells": [
    {
      "cell_type": "markdown",
      "metadata": {
        "id": "view-in-github",
        "colab_type": "text"
      },
      "source": [
        "<a href=\"https://colab.research.google.com/github/Rafat-Hossain-Reyal/ML_LAB/blob/main/Naivebayes.ipynb\" target=\"_parent\"><img src=\"https://colab.research.google.com/assets/colab-badge.svg\" alt=\"Open In Colab\"/></a>"
      ]
    },
    {
      "cell_type": "code",
      "execution_count": 2,
      "metadata": {
        "id": "W2e86SF_yjm8",
        "outputId": "74b00cbb-c1a8-479b-f7f2-5771d20b7300",
        "colab": {
          "base_uri": "https://localhost:8080/"
        }
      },
      "outputs": [
        {
          "output_type": "stream",
          "name": "stdout",
          "text": [
            "Feature names: ['sepal length (cm)', 'sepal width (cm)', 'petal length (cm)', 'petal width (cm)']\n",
            "Target names: ['setosa' 'versicolor' 'virginica']\n",
            "First 5 samples:\n",
            " [[5.1 3.5 1.4 0.2]\n",
            " [4.9 3.  1.4 0.2]\n",
            " [4.7 3.2 1.3 0.2]\n",
            " [4.6 3.1 1.5 0.2]\n",
            " [5.  3.6 1.4 0.2]]\n",
            "First 5 labels: [0 0 0 0 0]\n",
            "--------------------------------------------------\n",
            "Training data shape: (120, 4)\n",
            "Test data shape: (30, 4)\n",
            "--------------------------------------------------\n",
            "Training Accuracy: 0.95\n",
            "--------------------------------------------------\n",
            "Test Accuracy: 1.0\n",
            "--------------------------------------------------\n",
            "Classification Report on Test Data:\n",
            "               precision    recall  f1-score   support\n",
            "\n",
            "           0       1.00      1.00      1.00        10\n",
            "           1       1.00      1.00      1.00         9\n",
            "           2       1.00      1.00      1.00        11\n",
            "\n",
            "    accuracy                           1.00        30\n",
            "   macro avg       1.00      1.00      1.00        30\n",
            "weighted avg       1.00      1.00      1.00        30\n",
            "\n"
          ]
        }
      ],
      "source": [
        "# 1. Import necessary libraries\n",
        "from sklearn.datasets import load_iris\n",
        "from sklearn.model_selection import train_test_split\n",
        "from sklearn.naive_bayes import GaussianNB\n",
        "from sklearn.metrics import accuracy_score, classification_report\n",
        "\n",
        "# 2. Load the Iris dataset\n",
        "iris = load_iris()\n",
        "X = iris.data\n",
        "y = iris.target\n",
        "\n",
        "print(\"Feature names:\", iris.feature_names)\n",
        "print(\"Target names:\", iris.target_names)\n",
        "print(\"First 5 samples:\\n\", X[:5])\n",
        "print(\"First 5 labels:\", y[:5])\n",
        "print(\"-\" * 50)\n",
        "\n",
        "# 3. Split data into train (80%) and test (20%) sets\n",
        "X_train, X_test, y_train, y_test = train_test_split(\n",
        "    X, y, test_size=0.2, random_state=42\n",
        ")\n",
        "\n",
        "print(\"Training data shape:\", X_train.shape)\n",
        "print(\"Test data shape:\", X_test.shape)\n",
        "print(\"-\" * 50)\n",
        "\n",
        "# 4. Create the Gaussian Naive Bayes classifier\n",
        "nb_classifier = GaussianNB()\n",
        "\n",
        "# 5. Train the model\n",
        "nb_classifier.fit(X_train, y_train)\n",
        "\n",
        "# 6. Training predictions & score\n",
        "y_train_pred = nb_classifier.predict(X_train)\n",
        "train_accuracy = accuracy_score(y_train, y_train_pred)\n",
        "print(\"Training Accuracy:\", train_accuracy)\n",
        "print(\"-\" * 50)\n",
        "\n",
        "# 7. Test predictions\n",
        "y_pred = nb_classifier.predict(X_test)\n",
        "\n",
        "# 8. Evaluate the model on test data\n",
        "test_accuracy = accuracy_score(y_test, y_pred)\n",
        "print(\"Test Accuracy:\", test_accuracy)\n",
        "print(\"-\" * 50)\n",
        "\n",
        "# 9. Show classification report\n",
        "print(\"Classification Report on Test Data:\\n\", classification_report(y_test, y_pred))"
      ]
    }
  ]
}